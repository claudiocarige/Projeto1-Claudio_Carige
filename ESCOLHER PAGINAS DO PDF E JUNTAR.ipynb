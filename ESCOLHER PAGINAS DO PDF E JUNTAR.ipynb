{
 "cells": [
  {
   "cell_type": "code",
   "execution_count": 64,
   "id": "7f009202",
   "metadata": {},
   "outputs": [
    {
     "name": "stdout",
     "output_type": "stream",
     "text": [
      "Digite o endereço do arquivo que a(s) pagina(s) será extraida: D:\\PARTICULAR\\PYTHON\n",
      "Digite o nome do arquivo: MGLU_ER_3T20_POR\n",
      "Digite a quantidadede de paginas que deseja separar: 4\n",
      "Digite o(s) numero(s) da(s) pagina(s): \n",
      "20\n",
      "12\n",
      "22\n",
      "1\n",
      "[20, 12, 22, 1]\n",
      "Digite um nome para o novo arquivo: teste 2\n"
     ]
    }
   ],
   "source": [
    "import PyPDF2 as pyf\n",
    "from pathlib import Path\n",
    "\n",
    "endereco_arquivo = input('Digite o endereço do arquivo que a(s) pagina(s) será extraida: ')\n",
    "nome_arquivo = str(input('Digite o nome do arquivo: '))\n",
    "nome_arquivo =  (\"\\\\\" + nome_arquivo)#.replace('.','')#Tive que colocar um ponto para tratar a barra invertida\n",
    "endereco_arquivo = endereco_arquivo + nome_arquivo + '.pdf'\n",
    "qtd_pags = int(input('Digite a quantidadede de paginas que deseja separar: '))\n",
    "lista_pags = []\n",
    "print('Digite o(s) numero(s) da(s) pagina(s): ')\n",
    "while qtd_pags != 0:\n",
    "    numero = int(input())\n",
    "    lista_pags.append(numero)\n",
    "    qtd_pags -= 1\n",
    "arquivo_tratar = pyf.PdfFileReader(endereco_arquivo)\n",
    "arquivo_novo = pyf.PdfFileWriter()\n",
    "print(lista_pags)\n",
    "for num_pag in lista_pags:\n",
    "    for i, item in enumerate(arquivo_tratar.pages):\n",
    "        if i == num_pag-1:\n",
    "            #arquivo_novo2 = pyf.PdfFileWriter()\n",
    "            #arquivo_novo2.add_page(item)\n",
    "            arquivo_novo.addPage(item)\n",
    "            \n",
    "nome_novo = str(input('Digite um nome para o novo arquivo: '))\n",
    "with Path(fr'C:\\Users\\ccari\\OneDrive\\AULAS\\TESTE PDF\\_{nome_novo}.pdf').open(mode = 'wb') as arquivo_unido:#este OPEN \n",
    "    arquivo_novo.write(arquivo_unido)\n",
    "        "
   ]
  },
  {
   "cell_type": "code",
   "execution_count": null,
   "id": "294aa239",
   "metadata": {},
   "outputs": [],
   "source": []
  },
  {
   "cell_type": "code",
   "execution_count": 61,
   "id": "75d76daa",
   "metadata": {},
   "outputs": [
    {
     "name": "stdout",
     "output_type": "stream",
     "text": [
      "D:\\PARTICULAR\\PYTHON\\MGLU_ER_3T20_POR.pdf\n"
     ]
    }
   ],
   "source": [
    "D:\\PARTICULAR\\PYTHON\n",
    "    \n",
    "MGLU_ER_3T20_POR"
   ]
  },
  {
   "cell_type": "code",
   "execution_count": null,
   "id": "5a82fbe4",
   "metadata": {},
   "outputs": [],
   "source": [
    "\n"
   ]
  },
  {
   "cell_type": "code",
   "execution_count": null,
   "id": "0517f679",
   "metadata": {},
   "outputs": [],
   "source": []
  }
 ],
 "metadata": {
  "kernelspec": {
   "display_name": "Python 3 (ipykernel)",
   "language": "python",
   "name": "python3"
  },
  "language_info": {
   "codemirror_mode": {
    "name": "ipython",
    "version": 3
   },
   "file_extension": ".py",
   "mimetype": "text/x-python",
   "name": "python",
   "nbconvert_exporter": "python",
   "pygments_lexer": "ipython3",
   "version": "3.9.7"
  }
 },
 "nbformat": 4,
 "nbformat_minor": 5
}
