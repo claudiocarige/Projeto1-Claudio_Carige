{
 "cells": [
  {
   "cell_type": "code",
   "execution_count": null,
   "id": "7f009202",
   "metadata": {},
   "outputs": [],
   "source": [
    "import PyPDF2 as pyf\n",
    "from pathlib import Path\n",
    "\n",
    "\n",
    "#Inserção das informações\n",
    "endereco_arquivo = input('Digite o endereço do arquivo que a(s) pagina(s) será extraida: ')\n",
    "nome_arquivo = str(input('Digite o nome do arquivo: '))\n",
    "qtd_pags = int(input('Digite a quantidadede de paginas que deseja separar: '))\n",
    "\n",
    "#Tratamento do nome do arquivo\n",
    "nome_arquivo =  (\"\\\\\" + nome_arquivo)#.replace('.','')\n",
    "endereco_arquivo = endereco_arquivo + nome_arquivo + '.pdf'\n",
    "\n",
    "#Inserção dos numeros das páginas numa lista\n",
    "lista_pags = []\n",
    "print('Digite o(s) numero(s) da(s) pagina(s): ')\n",
    "while qtd_pags != 0:\n",
    "    numero = int(input())\n",
    "    lista_pags.append(numero)\n",
    "    qtd_pags -= 1\n",
    "arquivo_tratar = pyf.PdfFileReader(endereco_arquivo)\n",
    "arquivo_novo = pyf.PdfFileWriter()\n",
    "#Adicionando as paginas separadas no novo arquivo\n",
    "for num_pag in lista_pags:\n",
    "    for i, item in enumerate(arquivo_tratar.pages):\n",
    "        if i == num_pag-1:\n",
    "            arquivo_novo.addPage(item)\n",
    "#Finalizando e nomeando o arquivo\n",
    "nome_novo = str(input('Digite um nome para o novo arquivo: '))\n",
    "endereco_arquivo_salvamento = input('Digite o endereço onde o arquivo será salvo: ')\n",
    "with Path(fr'{endereco_arquivo_salvamento}\\_{nome_novo}.pdf').open(mode = 'wb') as arquivo_unido:\n",
    "    arquivo_novo.write(arquivo_unido)\n",
    "\n",
    "print('Processo concluido com êxito!')"
   ]
  }
 ],
 "metadata": {
  "kernelspec": {
   "display_name": "Python 3 (ipykernel)",
   "language": "python",
   "name": "python3"
  },
  "language_info": {
   "codemirror_mode": {
    "name": "ipython",
    "version": 3
   },
   "file_extension": ".py",
   "mimetype": "text/x-python",
   "name": "python",
   "nbconvert_exporter": "python",
   "pygments_lexer": "ipython3",
   "version": "3.9.7"
  }
 },
 "nbformat": 4,
 "nbformat_minor": 5
}
